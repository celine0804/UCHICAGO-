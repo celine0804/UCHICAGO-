{
 "cells": [
  {
   "cell_type": "markdown",
   "metadata": {},
   "source": [
    "# BUS32100, HW 0\n",
    "\n",
    "Please follow the directions on Canvas for how to download/upload your homework. Keep your output displayed to make grading easier for us! "
   ]
  },
  {
   "cell_type": "markdown",
   "metadata": {},
   "source": [
    "### 1) Lists in Python"
   ]
  },
  {
   "cell_type": "markdown",
   "metadata": {},
   "source": [
    "### 1a"
   ]
  },
  {
   "cell_type": "code",
   "execution_count": 6,
   "metadata": {},
   "outputs": [
    {
     "name": "stdout",
     "output_type": "stream",
     "text": [
      "2\n",
      "train\n",
      "1.7\n",
      "False\n"
     ]
    }
   ],
   "source": [
    "# todo: create several variables in Python\n",
    "\n",
    "x= 2\n",
    "y= 'train'\n",
    "z= 1.7\n",
    "w= False \n",
    "\n",
    "print (x)\n",
    "print (y)\n",
    "print (z)\n",
    "print (w)\n",
    "\n"
   ]
  },
  {
   "cell_type": "markdown",
   "metadata": {},
   "source": [
    "### 1b"
   ]
  },
  {
   "cell_type": "code",
   "execution_count": 4,
   "metadata": {},
   "outputs": [
    {
     "name": "stdout",
     "output_type": "stream",
     "text": [
      "[1, 2, 3, 4, 5]\n"
     ]
    }
   ],
   "source": [
    "# todo: create several lists in Python, some with homogenous types and some with heterogenous types\n",
    "\n",
    "list1=[1,2,3,4,5]\n",
    "print (list1)\n"
   ]
  },
  {
   "cell_type": "code",
   "execution_count": 7,
   "metadata": {},
   "outputs": [
    {
     "name": "stdout",
     "output_type": "stream",
     "text": [
      "['a', 1, True, 'TRUE']\n"
     ]
    }
   ],
   "source": [
    "list2=['a',1, True,'TRUE']\n",
    "print(list2)"
   ]
  },
  {
   "cell_type": "markdown",
   "metadata": {},
   "source": [
    "### 1c"
   ]
  },
  {
   "cell_type": "code",
   "execution_count": 14,
   "metadata": {},
   "outputs": [
    {
     "data": {
      "text/plain": [
       "['a', 1]"
      ]
     },
     "execution_count": 14,
     "metadata": {},
     "output_type": "execute_result"
    }
   ],
   "source": [
    "# todo: return a slice from one of your Python lists (slice can be any length you choose. experiment!)\n",
    "\n",
    "list2[0:2]\n"
   ]
  },
  {
   "cell_type": "markdown",
   "metadata": {},
   "source": [
    "### 1d"
   ]
  },
  {
   "cell_type": "code",
   "execution_count": 15,
   "metadata": {},
   "outputs": [
    {
     "data": {
      "text/plain": [
       "['a', 'TRUE']"
      ]
     },
     "execution_count": 15,
     "metadata": {},
     "output_type": "execute_result"
    }
   ],
   "source": [
    "# todo: return a slice of a list but only return every third element\n",
    "\n",
    "list2[::3]\n"
   ]
  },
  {
   "cell_type": "markdown",
   "metadata": {},
   "source": [
    "## 2) If-Else statements in Python"
   ]
  },
  {
   "cell_type": "markdown",
   "metadata": {},
   "source": [
    "### 2a"
   ]
  },
  {
   "cell_type": "code",
   "execution_count": 18,
   "metadata": {},
   "outputs": [
    {
     "name": "stdout",
     "output_type": "stream",
     "text": [
      "Hurray!\n"
     ]
    }
   ],
   "source": [
    "# todo: write an if-else statement using only an if and an else clause\n",
    "a=5\n",
    "if a > 0:\n",
    "    print (\"Hurray!\")\n",
    "else:\n",
    "    print (\"Boo!\")\n",
    "\n"
   ]
  },
  {
   "cell_type": "markdown",
   "metadata": {},
   "source": [
    "### 2b"
   ]
  },
  {
   "cell_type": "code",
   "execution_count": 20,
   "metadata": {},
   "outputs": [
    {
     "name": "stdout",
     "output_type": "stream",
     "text": [
      "Hola!\n"
     ]
    }
   ],
   "source": [
    "# todo: write an if-else statement but using an if, elif, and else clauses\n",
    "a= 132\n",
    "if a>200: \n",
    "    print (\"Hella!\")\n",
    "elif 100<a<=200:\n",
    "    print (\"Hola!\")\n",
    "else: \n",
    "    print (\"Bonjour!\")\n"
   ]
  },
  {
   "cell_type": "markdown",
   "metadata": {},
   "source": [
    "## 3) Functions in Python"
   ]
  },
  {
   "cell_type": "markdown",
   "metadata": {},
   "source": [
    "### 3a"
   ]
  },
  {
   "cell_type": "code",
   "execution_count": 23,
   "metadata": {},
   "outputs": [
    {
     "name": "stdout",
     "output_type": "stream",
     "text": [
      "6\n"
     ]
    }
   ],
   "source": [
    "# todo: write a function that takes in two integers and prints out which one is larger\n",
    "\n",
    "def bigger_number(x,y): \n",
    "    if x >=y:\n",
    "        print (x)\n",
    "    else:\n",
    "        print (y)\n",
    "\n",
    "bigger_number(3,6)\n"
   ]
  },
  {
   "cell_type": "markdown",
   "metadata": {},
   "source": [
    "### 3b"
   ]
  },
  {
   "cell_type": "code",
   "execution_count": 44,
   "metadata": {},
   "outputs": [
    {
     "name": "stdout",
     "output_type": "stream",
     "text": [
      "elppa\n"
     ]
    }
   ],
   "source": [
    "# todo: write a function that takes in a string and prints out the characters in backwards order\n",
    "\n",
    "def reverse(text):\n",
    "    reversed_text= text[::-1]\n",
    "    print(reversed_text)\n",
    "\n",
    "\n",
    "sample = 'apple'\n",
    "reverse(sample)\n",
    "\n"
   ]
  },
  {
   "cell_type": "markdown",
   "metadata": {},
   "source": [
    "### 3c"
   ]
  },
  {
   "cell_type": "code",
   "execution_count": 48,
   "metadata": {},
   "outputs": [
    {
     "name": "stdout",
     "output_type": "stream",
     "text": [
      "La v*e *n ros*!\n"
     ]
    }
   ],
   "source": [
    "# todo: write a function that takes in a long string (several sentences) and *returns* the string (doesn't print it out)\n",
    "# with random vowels replaced with '*' to make it look hilariously censored\n",
    "# you can replace all vowels or only some vowels, up to you\n",
    "\n",
    "def censor_vowels(text):\n",
    "    vowels = \"aeiouAEIOU\"\n",
    "    censored_text = \"\"\n",
    "    vowel_count = 0  \n",
    "\n",
    "    for char in text:\n",
    "        if char in vowels:\n",
    "            vowel_count += 1\n",
    "            # Replace every 2nd vowel with '*'\n",
    "            if vowel_count % 2 == 0:\n",
    "                censored_text += '*'\n",
    "            else:\n",
    "                censored_text += char\n",
    "        else:\n",
    "            censored_text += char\n",
    "\n",
    "    return censored_text\n",
    "\n",
    "long_string = \"La vie en rose!\"\n",
    "censored = censor_vowels(long_string)\n",
    "print(censored)\n",
    "\n"
   ]
  },
  {
   "cell_type": "markdown",
   "metadata": {},
   "source": [
    "### 3d"
   ]
  },
  {
   "cell_type": "code",
   "execution_count": 31,
   "metadata": {},
   "outputs": [
    {
     "data": {
      "text/plain": [
       "['horse', 'kitten', 'chair', 'gorilla']"
      ]
     },
     "execution_count": 31,
     "metadata": {},
     "output_type": "execute_result"
    }
   ],
   "source": [
    "# todo: Write a function that:\n",
    "# Takes in two inputs: a list of words and an integer n\n",
    "# Returns a new list containing only the words that have a length greater than or equal to n\n",
    "\n",
    "def new_list_by_length(words, n): \n",
    "    new_list=[]\n",
    "\n",
    "    for word in words: \n",
    "        if len(word) >= n: \n",
    "            new_list.append(word)\n",
    "\n",
    "        else: \n",
    "            pass\n",
    "\n",
    "    return new_list\n",
    "\n",
    "word_list= ['cat', 'dog', 'horse', 'kitten', 'home', 'chair', 'gorilla', 'lion']\n",
    "new_list_by_length(word_list, 5)\n",
    "    \n",
    "    "
   ]
  },
  {
   "cell_type": "markdown",
   "metadata": {},
   "source": [
    "## 3e"
   ]
  },
  {
   "cell_type": "code",
   "execution_count": 36,
   "metadata": {},
   "outputs": [
    {
     "data": {
      "text/plain": [
       "([2, 4, 6, 8], [5, 7, 13])"
      ]
     },
     "execution_count": 36,
     "metadata": {},
     "output_type": "execute_result"
    }
   ],
   "source": [
    "# todo: Write a function that:\n",
    "# Takes in a list of integers\n",
    "# Returns two lists: one list with all the even numbers, and one list with all the odd numbers\n",
    "\n",
    "def odd_or_even (numbers):\n",
    "    even_numbers=[]\n",
    "    odd_numbers=[]\n",
    "\n",
    "    for n in numbers: \n",
    "        if n%2==0:\n",
    "            even_numbers.append(n)\n",
    "        else: \n",
    "            odd_numbers.append(n)\n",
    "    \n",
    "    return even_numbers, odd_numbers \n",
    "\n",
    "list_of_numbers = [2,4,5,6,7,8,13]\n",
    "odd_or_even(list_of_numbers)\n"
   ]
  },
  {
   "cell_type": "code",
   "execution_count": null,
   "metadata": {},
   "outputs": [],
   "source": []
  }
 ],
 "metadata": {
  "kernelspec": {
   "display_name": "Python 3 (ipykernel)",
   "language": "python",
   "name": "python3"
  },
  "language_info": {
   "codemirror_mode": {
    "name": "ipython",
    "version": 3
   },
   "file_extension": ".py",
   "mimetype": "text/x-python",
   "name": "python",
   "nbconvert_exporter": "python",
   "pygments_lexer": "ipython3",
   "version": "3.11.9"
  }
 },
 "nbformat": 4,
 "nbformat_minor": 4
}
